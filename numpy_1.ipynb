{
  "nbformat": 4,
  "nbformat_minor": 0,
  "metadata": {
    "colab": {
      "provenance": []
    },
    "kernelspec": {
      "name": "python3",
      "display_name": "Python 3"
    },
    "language_info": {
      "name": "python"
    }
  },
  "cells": [
    {
      "cell_type": "markdown",
      "source": [
        "####Numpy provides a high-performance multidimensional array object, and tools for working with these arrays.It is the fundamental package for scientific computing with Python."
      ],
      "metadata": {
        "id": "_S7ydXZQfM9E"
      }
    },
    {
      "cell_type": "markdown",
      "source": [
        "# Arrays in Numpy"
      ],
      "metadata": {
        "id": "JtOx5F6OfzBr"
      }
    },
    {
      "cell_type": "markdown",
      "source": [
        "#### Array in Numpy is a table of elements (usually numbers), all of the same type, indexed by a tuple of positive integers.In Numpy, number of dimensions of the array is called rank of the array."
      ],
      "metadata": {
        "id": "yPRc3UzniQ5E"
      }
    },
    {
      "cell_type": "code",
      "source": [
        "import numpy as np\n",
        "#Creating a rank 1 Array\n",
        "arr=np.array([1,2,3])\n",
        "print(arr)\n",
        "print(type(arr))\n",
        "\n",
        "# Creating a rank 2 Array\n",
        "arr1=np.array([[1,2,3],\n",
        "              [4,5,6]])\n",
        "print(arr1)\n",
        "\n",
        "# Crating an array from tuple\n",
        "arr3=np.array((1,2,3))\n",
        "print(arr3)"
      ],
      "metadata": {
        "id": "OWALnZ_Gfd1s",
        "colab": {
          "base_uri": "https://localhost:8080/"
        },
        "outputId": "ce295309-9195-4ccf-e810-44d5e2a5ce2a"
      },
      "execution_count": null,
      "outputs": [
        {
          "output_type": "stream",
          "name": "stdout",
          "text": [
            "[1 2 3]\n",
            "<class 'numpy.ndarray'>\n",
            "[[1 2 3]\n",
            " [4 5 6]]\n",
            "[1 2 3]\n"
          ]
        }
      ]
    },
    {
      "cell_type": "code",
      "source": [
        "# for dimensions element of each array have to fill\n",
        "import numpy as np\n",
        "list1=[[1,2,3],\n",
        "      [4,5,6],\n",
        "       [7,8,]]\n",
        "arr1=np.array(list1)\n",
        "print(arr1)"
      ],
      "metadata": {
        "colab": {
          "base_uri": "https://localhost:8080/",
          "height": 201
        },
        "id": "5ZFWi6R_jL0q",
        "outputId": "15846f37-c8d8-4fd7-a106-859a8cb16aa1"
      },
      "execution_count": null,
      "outputs": [
        {
          "output_type": "error",
          "ename": "ValueError",
          "evalue": "setting an array element with a sequence. The requested array has an inhomogeneous shape after 1 dimensions. The detected shape was (3,) + inhomogeneous part.",
          "traceback": [
            "\u001b[0;31m---------------------------------------------------------------------------\u001b[0m",
            "\u001b[0;31mValueError\u001b[0m                                Traceback (most recent call last)",
            "\u001b[0;32m<ipython-input-7-bce7de354a12>\u001b[0m in \u001b[0;36m<cell line: 0>\u001b[0;34m()\u001b[0m\n\u001b[1;32m      4\u001b[0m       \u001b[0;34m[\u001b[0m\u001b[0;36m4\u001b[0m\u001b[0;34m,\u001b[0m\u001b[0;36m5\u001b[0m\u001b[0;34m,\u001b[0m\u001b[0;36m6\u001b[0m\u001b[0;34m]\u001b[0m\u001b[0;34m,\u001b[0m\u001b[0;34m\u001b[0m\u001b[0;34m\u001b[0m\u001b[0m\n\u001b[1;32m      5\u001b[0m        [7,8,]]\n\u001b[0;32m----> 6\u001b[0;31m \u001b[0marr1\u001b[0m\u001b[0;34m=\u001b[0m\u001b[0mnp\u001b[0m\u001b[0;34m.\u001b[0m\u001b[0marray\u001b[0m\u001b[0;34m(\u001b[0m\u001b[0mlist1\u001b[0m\u001b[0;34m)\u001b[0m\u001b[0;34m\u001b[0m\u001b[0;34m\u001b[0m\u001b[0m\n\u001b[0m\u001b[1;32m      7\u001b[0m \u001b[0mprint\u001b[0m\u001b[0;34m(\u001b[0m\u001b[0marr1\u001b[0m\u001b[0;34m)\u001b[0m\u001b[0;34m\u001b[0m\u001b[0;34m\u001b[0m\u001b[0m\n",
            "\u001b[0;31mValueError\u001b[0m: setting an array element with a sequence. The requested array has an inhomogeneous shape after 1 dimensions. The detected shape was (3,) + inhomogeneous part."
          ]
        }
      ]
    },
    {
      "cell_type": "code",
      "source": [
        "# Create a 2X3 array filled with zeros\n",
        "zeros_array=np.zeros((2,3))\n",
        "print(zeros_array)\n",
        "\n",
        "#Create a 3X2 array filled with ones\n",
        "\n",
        "Ones_array=np.ones((3,2))\n",
        "print(Ones_array)"
      ],
      "metadata": {
        "colab": {
          "base_uri": "https://localhost:8080/"
        },
        "id": "f0fw6l2A54BA",
        "outputId": "0675dac0-6db0-4946-96c7-bc79ea1ac69c"
      },
      "execution_count": null,
      "outputs": [
        {
          "output_type": "stream",
          "name": "stdout",
          "text": [
            "[[0. 0. 0.]\n",
            " [0. 0. 0.]]\n",
            "[[1. 1.]\n",
            " [1. 1.]\n",
            " [1. 1.]]\n"
          ]
        }
      ]
    },
    {
      "cell_type": "markdown",
      "source": [
        "Range of values"
      ],
      "metadata": {
        "id": "awOqKILkFAWE"
      }
    },
    {
      "cell_type": "code",
      "source": [
        "range_arr=np.arange(10)\n",
        "print(\"Range array:\",range_arr)\n",
        "\n",
        "range_arr = np.arange(2,10)\n",
        "print(\"Range array:\",range_arr)\n",
        "\n",
        "range_arr =np.arange(0,10,2)\n",
        "print(\"Range aray:\",range_arr)"
      ],
      "metadata": {
        "colab": {
          "base_uri": "https://localhost:8080/"
        },
        "id": "HxYZLPtfEQ19",
        "outputId": "09209070-4ff0-4c65-b0b0-b204ed0d3f25"
      },
      "execution_count": null,
      "outputs": [
        {
          "output_type": "stream",
          "name": "stdout",
          "text": [
            "Range array: [0 1 2 3 4 5 6 7 8 9]\n",
            "Range array: [2 3 4 5 6 7 8 9]\n",
            "Range aray: [0 2 4 6 8]\n"
          ]
        }
      ]
    },
    {
      "cell_type": "markdown",
      "source": [
        "Evenly spaced values"
      ],
      "metadata": {
        "id": "p5P3qE2YGGuz"
      }
    },
    {
      "cell_type": "markdown",
      "source": [
        "### numpy.linspace(start,stop,num=50,endpoint=True,dtupe=False)"
      ],
      "metadata": {
        "id": "2ya9yqyWtF_b"
      }
    },
    {
      "cell_type": "code",
      "source": [
        "\"\"\" Why is it used?\n",
        "\n",
        "To generate numbers at equal intervals within a specific range.\n",
        "\n",
        "For plotting graphs, such as creating values for the X-axis or Y-axis.\n",
        "\n",
        "In simulations in mathematics or physics.\n",
        "\n",
        "To generate test or training data.\"\"\"\"\n",
        "\n",
        "\n"
      ],
      "metadata": {
        "id": "JB_bdEH6F59M"
      },
      "execution_count": null,
      "outputs": []
    },
    {
      "cell_type": "code",
      "source": [
        "# numpy.linspace(Start,stop,num=50,endpoint=True,dtupe=None,retstep=False)\n",
        "import numpy as np\n",
        "linespace_arr1= np.linspace(0,1,3, endpoint=False)  # 0-1 er moddhe 3 ta vag korci\n",
        "print(\"Linespace array:\",linespace_arr1)\n",
        "\n",
        "\n",
        "linespace_arr2 = np.linspace(0,1,5,dtype=float,retstep=True)\n",
        "print(\"Linspace array:\",linespace_arr2)"
      ],
      "metadata": {
        "id": "fLXH-2-3F6OD",
        "colab": {
          "base_uri": "https://localhost:8080/"
        },
        "outputId": "4f1192c4-448b-4fdd-d434-d8c90b54f6da"
      },
      "execution_count": null,
      "outputs": [
        {
          "output_type": "stream",
          "name": "stdout",
          "text": [
            "Linespace array: [0.         0.33333333 0.66666667]\n",
            "Linspace array: (array([0.  , 0.25, 0.5 , 0.75, 1.  ]), np.float64(0.25))\n"
          ]
        }
      ]
    },
    {
      "cell_type": "markdown",
      "source": [
        "##  Reshaping and Transpose"
      ],
      "metadata": {
        "id": "rP_7w0Yy2GQI"
      }
    },
    {
      "cell_type": "code",
      "source": [
        "arr=np.array([[1,2,3],[4,5,6]])\n",
        "arr.shape"
      ],
      "metadata": {
        "id": "8TbduLtoF6RE",
        "colab": {
          "base_uri": "https://localhost:8080/"
        },
        "outputId": "eb495ef5-d1d6-4068-aaef-0fd1470bdf5a"
      },
      "execution_count": null,
      "outputs": [
        {
          "output_type": "execute_result",
          "data": {
            "text/plain": [
              "(2, 3)"
            ]
          },
          "metadata": {},
          "execution_count": 19
        }
      ]
    },
    {
      "cell_type": "code",
      "source": [
        "arr=np.array([1,2,3,4,5,6])\n",
        "print(\"Orginal array:\\n\",arr)\n",
        "print(\"\\n\\n\")\n",
        "reshaped_arr=arr.reshape(2,3)  # 2 rows ,3 columns\n",
        "print(\"Reshaped array:\\n\",reshaped_arr)\n",
        "print(\"Shape:\",reshaped_arr.shape)"
      ],
      "metadata": {
        "id": "Hyy-pldRF6Tz",
        "colab": {
          "base_uri": "https://localhost:8080/"
        },
        "outputId": "9c31c23d-e7ee-4fbe-f962-6c9465885c01"
      },
      "execution_count": null,
      "outputs": [
        {
          "output_type": "stream",
          "name": "stdout",
          "text": [
            "Orginal array:\n",
            " [1 2 3 4 5 6]\n",
            "\n",
            "\n",
            "\n",
            "Reshaped array:\n",
            " [[1 2 3]\n",
            " [4 5 6]]\n",
            "Shape: (2, 3)\n"
          ]
        }
      ]
    },
    {
      "cell_type": "code",
      "source": [
        "# Transpose a 2D array\n",
        "arr=np.array([[1,2,3],[4,5,6]])\n",
        "print(\"Orginal array:\\n\",arr)\n",
        "print()\n",
        "transpose_array=np.transpose(arr)\n",
        "print(\"Transpose array:\\n\",transpose_array)"
      ],
      "metadata": {
        "id": "bA9YJJClF6W7",
        "colab": {
          "base_uri": "https://localhost:8080/"
        },
        "outputId": "11115382-b4d3-4b88-d414-45ebe0dcc40e"
      },
      "execution_count": null,
      "outputs": [
        {
          "output_type": "stream",
          "name": "stdout",
          "text": [
            "Orginal array:\n",
            " [[1 2 3]\n",
            " [4 5 6]]\n",
            "\n",
            "Transpose array:\n",
            " [[1 4]\n",
            " [2 5]\n",
            " [3 6]]\n"
          ]
        }
      ]
    },
    {
      "cell_type": "markdown",
      "source": [
        "Array Slicing and indexing"
      ],
      "metadata": {
        "id": "n-YnoBNbE1pb"
      }
    },
    {
      "cell_type": "code",
      "source": [
        "arr=np.array([10,20,30,40,50])\n",
        "print(\"First element:\",arr[0])  # array indexing\n",
        "print(\"Last element:\",arr[-1])  # indexing\n",
        "print(\"Element from index 1 to 3:\",arr[1:4])  # Slicing\n"
      ],
      "metadata": {
        "colab": {
          "base_uri": "https://localhost:8080/"
        },
        "id": "h5R8Vvy_E8HB",
        "outputId": "0c14b4d4-7ffa-4936-95f5-d122d8292d5f"
      },
      "execution_count": null,
      "outputs": [
        {
          "output_type": "stream",
          "name": "stdout",
          "text": [
            "First element: 10\n",
            "Last element: 50\n",
            "Element from index 1 to 3: [20 30 40]\n"
          ]
        }
      ]
    },
    {
      "cell_type": "markdown",
      "source": [
        "Concatanation,stacking and splitting"
      ],
      "metadata": {
        "id": "Q22Iyk8TBE8J"
      }
    },
    {
      "cell_type": "code",
      "source": [
        "# Concatenate two arrays along the first axis\n",
        "array1=np.array([[1,2,],[3,4]])\n",
        "array2=np.array([[5,6]])\n",
        "print(\"Shapr:\\n\",array1)\n",
        "print()\n",
        "concatenate_arr=np.concatenate((array1,array2),axis=0)\n",
        "print(\"concanete array:\\n\",concatenate_arr)\n"
      ],
      "metadata": {
        "id": "rfce0TOwF6ar",
        "colab": {
          "base_uri": "https://localhost:8080/"
        },
        "outputId": "44b02a56-5c9e-42f6-f7a8-01dc9bec0be6"
      },
      "execution_count": null,
      "outputs": [
        {
          "output_type": "stream",
          "name": "stdout",
          "text": [
            "Shapr:\n",
            " [[1 2]\n",
            " [3 4]]\n",
            "\n",
            "concanete array:\n",
            " [[1 2]\n",
            " [3 4]\n",
            " [5 6]]\n"
          ]
        }
      ]
    },
    {
      "cell_type": "code",
      "source": [
        "# concatenate two arrays along the first axis\n",
        "array1 = np.array([[1,2],[3,4]])\n",
        "array2 = np.array([[5,6],[7,8]])\n",
        "print(array2.shape)\n",
        "\n",
        "concatenate_arr= np.concatenate((array1,array2),axis=1)\n",
        "print(concatenate_arr)"
      ],
      "metadata": {
        "id": "ETt6EXBGF6gC",
        "colab": {
          "base_uri": "https://localhost:8080/"
        },
        "outputId": "74007913-8ad9-41ac-9fd1-8a325b576cdb"
      },
      "execution_count": null,
      "outputs": [
        {
          "output_type": "stream",
          "name": "stdout",
          "text": [
            "(2, 2)\n",
            "[[1 2 5 6]\n",
            " [3 4 7 8]]\n"
          ]
        }
      ]
    },
    {
      "cell_type": "code",
      "source": [
        "# Split an array into 3 equal parts\n",
        "main_arr =np.array([1,2,3,4,5,6,])\n",
        "split_arr=np.split(main_arr,3)\n",
        "print(split_arr)\n",
        "print()\n",
        "arr1=split_arr[2]\n",
        "print(arr1)"
      ],
      "metadata": {
        "id": "8XkyFXWvF6jb",
        "colab": {
          "base_uri": "https://localhost:8080/"
        },
        "outputId": "12f91534-d34a-42d6-9396-286a2d2c8b6b"
      },
      "execution_count": null,
      "outputs": [
        {
          "output_type": "stream",
          "name": "stdout",
          "text": [
            "[array([1, 2]), array([3, 4]), array([5, 6])]\n",
            "\n",
            "[5 6]\n"
          ]
        }
      ]
    },
    {
      "cell_type": "markdown",
      "source": [
        "### In NumPy, stacking means joining multiple arrays together along a new axis (either vertically or horizontally)."
      ],
      "metadata": {
        "id": "hGX444sLOgTW"
      }
    },
    {
      "cell_type": "code",
      "source": [
        "arr1=np.array([1,2,3])\n",
        "arr2=np.array([4,5,6])\n",
        "\n",
        "# vertical and horizantal stacking\n",
        "\n",
        "v_stack=np.vstack((arr1,arr2))\n",
        "h_stack=np.hstack((arr1,arr2))\n",
        "print(\"Vertical stack:\\n\",v_stack)\n",
        "print(\"Horizantal stacking:\\n\",h_stack)"
      ],
      "metadata": {
        "id": "zwJ_h-LgF6pj",
        "colab": {
          "base_uri": "https://localhost:8080/"
        },
        "outputId": "14def599-243e-482a-f91f-724378e17b30"
      },
      "execution_count": null,
      "outputs": [
        {
          "output_type": "stream",
          "name": "stdout",
          "text": [
            "Vertical stack:\n",
            " [[1 2 3]\n",
            " [4 5 6]]\n",
            "Horizantal stacking:\n",
            " [1 2 3 4 5 6]\n"
          ]
        }
      ]
    },
    {
      "cell_type": "markdown",
      "source": [
        "Element-wise operation"
      ],
      "metadata": {
        "id": "JhUhFkOAP5cr"
      }
    },
    {
      "cell_type": "code",
      "source": [
        "arr1 =np.array([1,2,3])\n",
        "arr2=np.array([4,5,6])\n",
        "\n",
        "print(\"Addition:\",arr1+arr2)\n",
        "print(\"Miltiplication:\",arr1*arr2)\n",
        "print(\"Squre of elements:\",arr1**2)"
      ],
      "metadata": {
        "colab": {
          "base_uri": "https://localhost:8080/"
        },
        "id": "gipP3VduQIUS",
        "outputId": "8c2128fd-a450-4f16-83df-de84f83a13b6"
      },
      "execution_count": null,
      "outputs": [
        {
          "output_type": "stream",
          "name": "stdout",
          "text": [
            "Addition: [5 7 9]\n",
            "Miltiplication: [ 4 10 18]\n",
            "Squre of elements: [1 4 9]\n"
          ]
        }
      ]
    },
    {
      "cell_type": "markdown",
      "source": [
        "Arithmatic and Statistical Operations"
      ],
      "metadata": {
        "id": "YahQD53vRKJB"
      }
    },
    {
      "cell_type": "code",
      "source": [],
      "metadata": {
        "id": "57zgI_l2SxfV"
      },
      "execution_count": null,
      "outputs": []
    },
    {
      "cell_type": "code",
      "source": [
        "# Compute the sum of array elements\n",
        "print(v_stack)\n",
        "print()\n",
        "sum_value=np.sum(v_stack)\n",
        "print(sum_value)"
      ],
      "metadata": {
        "colab": {
          "base_uri": "https://localhost:8080/"
        },
        "id": "02mg7sW2QIfj",
        "outputId": "028f8471-8db2-4ad1-c603-45a0f68e11c5"
      },
      "execution_count": null,
      "outputs": [
        {
          "output_type": "stream",
          "name": "stdout",
          "text": [
            "[[1 2 3]\n",
            " [4 5 6]]\n",
            "\n",
            "21\n"
          ]
        }
      ]
    },
    {
      "cell_type": "code",
      "source": [
        "# Compute the mean of array elements           Mean=  Sum of all values/Number of values\n",
        "mean_value =np.mean(v_stack)\n",
        "print(mean_value)"
      ],
      "metadata": {
        "colab": {
          "base_uri": "https://localhost:8080/"
        },
        "id": "UTRJOzKcQIiL",
        "outputId": "df64675c-84cf-463a-b7d5-2df7360d8361"
      },
      "execution_count": null,
      "outputs": [
        {
          "output_type": "stream",
          "name": "stdout",
          "text": [
            "3.5\n"
          ]
        }
      ]
    },
    {
      "cell_type": "code",
      "source": [
        "# Compute the standard deviation\n",
        "                                       #The standard deviation (SD) is a measure of how spread out the numbers in a dataset are from the mean (average).\n",
        "\n",
        "\n",
        "std_value = np.std(v_stack)\n",
        "print(std_value)"
      ],
      "metadata": {
        "colab": {
          "base_uri": "https://localhost:8080/"
        },
        "id": "mXZabBT4QIkr",
        "outputId": "ab902c79-d098-491c-ece8-f628e1b0aa39"
      },
      "execution_count": null,
      "outputs": [
        {
          "output_type": "stream",
          "name": "stdout",
          "text": [
            "1.707825127659933\n"
          ]
        }
      ]
    },
    {
      "cell_type": "code",
      "source": [
        "# Compute the median of array elements\n",
        "                                      #The median is the middle value of a set of numbers when they are arranged in order (ascending or descending).\n",
        "                                      # It separates the higher half from the lower half.\n",
        "array=np.array([1,3,5,4])\n",
        "median_value =np.median(array)\n",
        "print(median_value)"
      ],
      "metadata": {
        "colab": {
          "base_uri": "https://localhost:8080/"
        },
        "id": "jPSFvd_6WgkR",
        "outputId": "26218be3-95e7-4544-b21c-7067c8f97504"
      },
      "execution_count": null,
      "outputs": [
        {
          "output_type": "stream",
          "name": "stdout",
          "text": [
            "3.5\n"
          ]
        }
      ]
    },
    {
      "cell_type": "code",
      "source": [
        "# Find the minimum value in the array\n",
        "array=np.array([5,3,2,1,4])\n",
        "min_value=np.min(array)\n",
        "print(min_value)\n",
        "print()\n",
        "\n",
        "# Find the maximum value in the array\n",
        "max_value=np.max(array)\n",
        "print(max_value)"
      ],
      "metadata": {
        "colab": {
          "base_uri": "https://localhost:8080/"
        },
        "id": "o90lAJK4Wgm6",
        "outputId": "633cc918-1432-4785-cc9e-3868ab277956"
      },
      "execution_count": null,
      "outputs": [
        {
          "output_type": "stream",
          "name": "stdout",
          "text": [
            "1\n",
            "\n",
            "5\n"
          ]
        }
      ]
    },
    {
      "cell_type": "markdown",
      "source": [
        "Random Number generation"
      ],
      "metadata": {
        "id": "uACdndQ8ZW-m"
      }
    },
    {
      "cell_type": "code",
      "source": [
        "# Generate a 2X2 array of random bumbers uniformaly distributed over (0,1)\n",
        "random_array=np.random.rand(2,2)\n",
        "print(random_array)"
      ],
      "metadata": {
        "colab": {
          "base_uri": "https://localhost:8080/"
        },
        "id": "toVasyIWWgpZ",
        "outputId": "eebaecec-a527-4e61-f99a-9b044514cb19"
      },
      "execution_count": null,
      "outputs": [
        {
          "output_type": "stream",
          "name": "stdout",
          "text": [
            "[[0.65256031 0.84048529]\n",
            " [0.87803733 0.97450532]]\n"
          ]
        }
      ]
    },
    {
      "cell_type": "code",
      "source": [
        "# Generate a single random number from the standerd normal distribution\n",
        "single_value = np.random.randn()\n",
        "print(single_value)"
      ],
      "metadata": {
        "colab": {
          "base_uri": "https://localhost:8080/"
        },
        "id": "K02Nn3alZT41",
        "outputId": "61ad414b-d82e-4bba-b142-08a1df2e67ee"
      },
      "execution_count": null,
      "outputs": [
        {
          "output_type": "stream",
          "name": "stdout",
          "text": [
            "-0.493012623312632\n"
          ]
        }
      ]
    },
    {
      "cell_type": "code",
      "source": [
        "# Generate a 2X3 array numbers from a standard normal distribution\n",
        "\n",
        "random_normal_array=np.random.randn(2,2)\n",
        "print(random_normal_array)"
      ],
      "metadata": {
        "colab": {
          "base_uri": "https://localhost:8080/"
        },
        "id": "M7XBVLiLZT71",
        "outputId": "35e6579a-06bd-4874-cfd8-f1700ef99c29"
      },
      "execution_count": null,
      "outputs": [
        {
          "output_type": "stream",
          "name": "stdout",
          "text": [
            "[[ 0.56551499 -0.89084518]\n",
            " [ 0.08413155 -0.16560912]]\n"
          ]
        }
      ]
    },
    {
      "cell_type": "code",
      "source": [
        "# Generate random integers between 0 and 10 (exxlusive)\n",
        "random_integers= np.random.randint(0,10,size=(2,3))\n",
        "print(random_integers)"
      ],
      "metadata": {
        "colab": {
          "base_uri": "https://localhost:8080/"
        },
        "id": "bxcuOIbnZT-d",
        "outputId": "da800902-11a8-4c51-8504-1618498d9e45"
      },
      "execution_count": null,
      "outputs": [
        {
          "output_type": "stream",
          "name": "stdout",
          "text": [
            "[[7 0 9]\n",
            " [2 7 7]]\n"
          ]
        }
      ]
    },
    {
      "cell_type": "markdown",
      "source": [
        "# Broadcasting"
      ],
      "metadata": {
        "id": "QhQHSFjBc7oJ"
      }
    },
    {
      "cell_type": "code",
      "source": [
        " #Broadcasting in NumPy is a feature that allows array operations between arrays of different shapes.\n",
        "\n",
        "arr5 =np.array([1,2,3])\n",
        "arr6 =np.array([[1],[2],[3]])\n",
        "\n",
        "\n",
        "result =arr5+arr6   # Broadcasts arr1 across arr2\n",
        "print(\"Broadcasted addition:\\n\",result)\n"
      ],
      "metadata": {
        "colab": {
          "base_uri": "https://localhost:8080/"
        },
        "id": "-f-oPFDUZUBF",
        "outputId": "4da1ff2c-1f2e-4830-971d-e0672d16a844"
      },
      "execution_count": null,
      "outputs": [
        {
          "output_type": "stream",
          "name": "stdout",
          "text": [
            "Broadcasted addition:\n",
            " [[2 3 4]\n",
            " [3 4 5]\n",
            " [4 5 6]]\n"
          ]
        }
      ]
    },
    {
      "cell_type": "code",
      "source": [
        "result=arr5-arr6\n",
        "print(result)"
      ],
      "metadata": {
        "colab": {
          "base_uri": "https://localhost:8080/"
        },
        "id": "UzPwx9OUZUDW",
        "outputId": "917c9ac5-c9cd-42db-c4c6-6a83ad292cda"
      },
      "execution_count": null,
      "outputs": [
        {
          "output_type": "stream",
          "name": "stdout",
          "text": [
            "[[ 0  1  2]\n",
            " [-1  0  1]\n",
            " [-2 -1  0]]\n"
          ]
        }
      ]
    },
    {
      "cell_type": "markdown",
      "source": [
        "# Linear Algebra Operation"
      ],
      "metadata": {
        "id": "MiwyiV_lgbEs"
      }
    },
    {
      "cell_type": "code",
      "source": [
        "matrix =np.array([[1,2],[3,4]])\n",
        "\n",
        "# Martrix inverse\n",
        "inv_matrix =np.linalg.inv(matrix)\n",
        "print(\"Inverse of matrix:\\n\",inv_matrix)"
      ],
      "metadata": {
        "colab": {
          "base_uri": "https://localhost:8080/"
        },
        "id": "C2UuQZAgWgsB",
        "outputId": "4243b8a0-b298-44be-f42b-cc2195189f21"
      },
      "execution_count": null,
      "outputs": [
        {
          "output_type": "stream",
          "name": "stdout",
          "text": [
            "Inverse of matrix:\n",
            " [[-2.   1. ]\n",
            " [ 1.5 -0.5]]\n"
          ]
        }
      ]
    },
    {
      "cell_type": "code",
      "source": [
        "# Matrix determinant\n",
        "det_matrix =np.linalg.det(matrix)\n",
        "print(\"Determinat of matrix:\",det_matrix)"
      ],
      "metadata": {
        "colab": {
          "base_uri": "https://localhost:8080/"
        },
        "id": "SS0a67U2hN9K",
        "outputId": "309164f8-4283-4cc2-ad59-1ed5f04bd3f1"
      },
      "execution_count": null,
      "outputs": [
        {
          "output_type": "stream",
          "name": "stdout",
          "text": [
            "Determinat of matrix: -2.0000000000000004\n"
          ]
        }
      ]
    },
    {
      "cell_type": "code",
      "source": [
        "# Eigenvalues and Eigenvectors\n",
        "eigenvalues,eigenvectors=np.linalg.eig(matrix)\n",
        "print(\"Eigenvalues:\",eigenvalues)\n",
        "print(\"Eigenvectoes:\\n \",eigenvectors)"
      ],
      "metadata": {
        "colab": {
          "base_uri": "https://localhost:8080/"
        },
        "id": "Go3C_kf_hOAC",
        "outputId": "d25290e6-2a03-44df-e5f0-d9740fae6015"
      },
      "execution_count": null,
      "outputs": [
        {
          "output_type": "stream",
          "name": "stdout",
          "text": [
            "Eigenvalues: [-0.37228132  5.37228132]\n",
            "Eigenvectoes:\n",
            "  [[-0.82456484 -0.41597356]\n",
            " [ 0.56576746 -0.90937671]]\n"
          ]
        }
      ]
    },
    {
      "cell_type": "code",
      "source": [
        "# Find the index of the minimum value\n",
        "array =np.array([5,3,2,4])\n",
        "argmin_index =np.argmin(array)\n",
        "print(argmin_index)"
      ],
      "metadata": {
        "colab": {
          "base_uri": "https://localhost:8080/"
        },
        "id": "WNGUMaFuhOCx",
        "outputId": "b1976546-e948-4260-b379-a4d6df8628bd"
      },
      "execution_count": null,
      "outputs": [
        {
          "output_type": "stream",
          "name": "stdout",
          "text": [
            "2\n"
          ]
        }
      ]
    },
    {
      "cell_type": "code",
      "source": [
        "# Find the index of the maximum value\n",
        "array = np.array([5, 3, 2, 1, 4])\n",
        "argmax_index = np.argmax(array)\n",
        "print(argmax_index)                    #index value"
      ],
      "metadata": {
        "colab": {
          "base_uri": "https://localhost:8080/"
        },
        "id": "mcOTU5TshOFx",
        "outputId": "2f9617cb-507f-44ee-865e-a4e3082589d8"
      },
      "execution_count": null,
      "outputs": [
        {
          "output_type": "stream",
          "name": "stdout",
          "text": [
            "0\n"
          ]
        }
      ]
    },
    {
      "cell_type": "code",
      "source": [
        "# Find indices where the condition is met\n",
        "array = np.array([1, 2, 3, 4, 5])\n",
        "indices = np.where(array > 3)\n",
        "print(indices)"
      ],
      "metadata": {
        "colab": {
          "base_uri": "https://localhost:8080/"
        },
        "id": "-VS5uW2ohOIq",
        "outputId": "cdf468b0-864f-4cdd-a4ea-a33821e72527"
      },
      "execution_count": null,
      "outputs": [
        {
          "output_type": "stream",
          "name": "stdout",
          "text": [
            "(array([3, 4]),)\n"
          ]
        }
      ]
    },
    {
      "cell_type": "code",
      "source": [],
      "metadata": {
        "id": "DoSmY6C_hOLZ"
      },
      "execution_count": null,
      "outputs": []
    }
  ]
}